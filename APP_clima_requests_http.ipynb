{
 "cells": [
  {
   "cell_type": "markdown",
   "metadata": {},
   "source": [
    "<h3>Consultando clima com Python</h3>\n",
    "<p>Script baseado no Curso Udemy: Aprenda Programação em Python 3 com Facilidade do zero. Prof. Ivan Lourenço Gomes </p>\n",
    "<p>OJETIVO: identificar a localização do usuário e verificar a previsão do Tempo para aquela região.</p>"
   ]
  },
  {
   "cell_type": "markdown",
   "metadata": {},
   "source": [
    "Instalando e importando a bilbioteca para fazer as requisições HTTP"
   ]
  },
  {
   "cell_type": "code",
   "execution_count": 1,
   "metadata": {
    "scrolled": true
   },
   "outputs": [
    {
     "name": "stdout",
     "output_type": "stream",
     "text": [
      "Requirement already satisfied: requests in c:\\users\\f7098849\\appdata\\local\\continuum\\anaconda3\\lib\\site-packages (2.21.0)\n",
      "Requirement already satisfied: chardet<3.1.0,>=3.0.2 in c:\\users\\f7098849\\appdata\\local\\continuum\\anaconda3\\lib\\site-packages (from requests) (3.0.4)\n",
      "Requirement already satisfied: idna<2.9,>=2.5 in c:\\users\\f7098849\\appdata\\local\\continuum\\anaconda3\\lib\\site-packages (from requests) (2.8)\n",
      "Requirement already satisfied: urllib3<1.25,>=1.21.1 in c:\\users\\f7098849\\appdata\\local\\continuum\\anaconda3\\lib\\site-packages (from requests) (1.24.1)\n",
      "Requirement already satisfied: certifi>=2017.4.17 in c:\\users\\f7098849\\appdata\\local\\continuum\\anaconda3\\lib\\site-packages (from requests) (2018.11.29)\n"
     ]
    }
   ],
   "source": [
    "!pip install requests"
   ]
  },
  {
   "cell_type": "code",
   "execution_count": 2,
   "metadata": {},
   "outputs": [],
   "source": [
    "import requests"
   ]
  },
  {
   "cell_type": "markdown",
   "metadata": {},
   "source": [
    "<h4>1. Identificando a LOCALIZAÇÃO DO USUÁRIO</h4>"
   ]
  },
  {
   "cell_type": "markdown",
   "metadata": {},
   "source": [
    "Fazendo uma Requisição HTTP para o o site geoplugin\n",
    "O site, por meio do IP, devolve algumas informações, dentre elas a localização  (latitude e longitude)da máquina que fez a consulta."
   ]
  },
  {
   "cell_type": "code",
   "execution_count": 8,
   "metadata": {},
   "outputs": [],
   "source": [
    "#o end http://www.geoplugin.net/json.gp está disponível no site geoplugin\n",
    "r = requests.get('http://www.geoplugin.net/json.gp')"
   ]
  },
  {
   "cell_type": "markdown",
   "metadata": {},
   "source": [
    "Consultando o status da Requisição<br/>\n",
    "status 200 indica que a requisição bem sucedida!"
   ]
  },
  {
   "cell_type": "code",
   "execution_count": 9,
   "metadata": {},
   "outputs": [
    {
     "name": "stdout",
     "output_type": "stream",
     "text": [
      "Erro de requisição:  407\n"
     ]
    }
   ],
   "source": [
    "if r.status_code == 200:\n",
    "    print(\"Requisição com SUCESSO!!!\")\n",
    "else:\n",
    "    print('Erro de requisição: ', r.status_code)"
   ]
  },
  {
   "cell_type": "code",
   "execution_count": 13,
   "metadata": {},
   "outputs": [
    {
     "data": {
      "text/plain": [
       "'\\n<html><head>\\n<meta type=\"copyright\" content=\"Copyright (C) 1996-2016 The Squid Software Foundation and contributors\">\\n<meta http-equiv=\"Content-Type\" content=\"text/html; charset=utf-8\">\\n<title>ERRO: '"
      ]
     },
     "execution_count": 13,
     "metadata": {},
     "output_type": "execute_result"
    }
   ],
   "source": [
    "#consultando o resultado da requisição\n",
    "r.text[:200]"
   ]
  },
  {
   "cell_type": "markdown",
   "metadata": {},
   "source": [
    "Transformando a resposta da requisição em formato JSON"
   ]
  },
  {
   "cell_type": "code",
   "execution_count": 14,
   "metadata": {},
   "outputs": [],
   "source": [
    "import json"
   ]
  },
  {
   "cell_type": "code",
   "execution_count": null,
   "metadata": {},
   "outputs": [],
   "source": [
    "if r.status_code != 200:\n",
    "    print('Erro na requisição!')\n",
    "else:\n",
    "    localizacao = json.loads(r.text)\n",
    "    print(localizacao)"
   ]
  },
  {
   "cell_type": "markdown",
   "metadata": {},
   "source": [
    "Melhorando a imprensão do JSON<br />\n",
    "Visualizando a resposta no formato JSON"
   ]
  },
  {
   "cell_type": "code",
   "execution_count": null,
   "metadata": {},
   "outputs": [],
   "source": [
    "#!pip install pprint\n",
    "import pprint"
   ]
  },
  {
   "cell_type": "code",
   "execution_count": null,
   "metadata": {},
   "outputs": [],
   "source": [
    "if r.status_code != 200:\n",
    "    print('Erro na requisição!')\n",
    "else:\n",
    "    localizacao = json.loads(r.text)\n",
    "    print(pprint.pprint(localizacao))"
   ]
  },
  {
   "cell_type": "markdown",
   "metadata": {},
   "source": [
    "Capturando os valores para LATIDUDE e LONGITUDE"
   ]
  },
  {
   "cell_type": "code",
   "execution_count": null,
   "metadata": {},
   "outputs": [],
   "source": [
    "if r.status_code != 200:\n",
    "    print('Erro na requisição!')\n",
    "else:\n",
    "    localizacao = json.loads(r.text)\n",
    "    lat = localizacao['geoplugin_latitude'] #chave do json\n",
    "    long = localizacao['geoplugin_longitude'] #chave do json\n",
    "    print('Latitude: ', lat)\n",
    "    print('Longitude: ', long)"
   ]
  },
  {
   "cell_type": "markdown",
   "metadata": {},
   "source": [
    "<h4>2. Informações do CLIMA</h4>\n",
    "<p>Utilizando informações do site Accuweather. Esse site oferece informações sobre o clima.</p>"
   ]
  },
  {
   "cell_type": "markdown",
   "metadata": {},
   "source": [
    "Registro no Accuweather<br />\n",
    "Obtendo uma API KEY\n",
    "\n",
    "Procedimentos:<br />\n",
    "Acessar https://developer.accuweather.com/<br />\n",
    "Clicar em \"Register\" <br />\n",
    "Preencher as informações <br />\n",
    "Acessar seu email, confirmar a conta<br />\n",
    "Definar a senha, Escolher fuso<br />\n",
    "Clicar MYAPPS - NEW APP<br />\n",
    "Colocar as informações do APP<br />\n",
    "Clicar em CREATE APP<br />\n",
    "Próxima tela será mostrada a API KEY<br />"
   ]
  },
  {
   "cell_type": "markdown",
   "metadata": {},
   "source": [
    "Obter código do local"
   ]
  },
  {
   "cell_type": "markdown",
   "metadata": {},
   "source": [
    "No site do Accuweather, em Geoposition Search</br>\n",
    "Colar a API KEY</br>\n",
    "Em 'q' informar a latitude e longitude, separados por vírgula</br>\n",
    "Linguagem: pt-br</br>\n",
    "Em cURL copiar o endereço que lá está..."
   ]
  },
  {
   "cell_type": "code",
   "execution_count": null,
   "metadata": {},
   "outputs": [],
   "source": [
    "accuweatherApiKey = 'informarAapiKey'\n",
    "locationApiUrl = 'colarurlobtidaaima'+accuweatherApiKey+'aurl'+lat+'url'+long+'url'\n",
    "#substituir a parte em que consta a apikey\n",
    "#pela variável da API key"
   ]
  },
  {
   "cell_type": "markdown",
   "metadata": {},
   "source": [
    "No site do accuweather a API para clima é a Current Conditions.</br>\n",
    "No local informar:</br>\n",
    "a API Key</br>\n",
    "a linguagem: pt-br</br>\n",
    "Clicar em \"Send this request\"</br>\n",
    "\n"
   ]
  },
  {
   "cell_type": "code",
   "execution_count": null,
   "metadata": {},
   "outputs": [],
   "source": [
    "r2 =requests.get(localtionApiUrl)\n",
    "if (r.status_code !=  200):\n",
    "    print('erro na requisição!')\n",
    "else:\n",
    "    print(pprint.pprint(json.loads(r2.text)))\n",
    "    \n",
    "#informações importantes da requisição:\n",
    "#LocalizedName:\n",
    "#: \n",
    "#'Key': //que é a chave para a consulta do clima"
   ]
  },
  {
   "cell_type": "code",
   "execution_count": null,
   "metadata": {},
   "outputs": [],
   "source": [
    "r2 =requests.get(localtionApiUrl)\n",
    "if (r.status_code !=  200):\n",
    "    print('erro na requisição!')\n",
    "else:\n",
    "    locationResponse = json.loads(r2.text)\n",
    "    nomeLocal = locationResponse['LocalizedName']+', '+locationResponse['AdministrativeArea']['LocalizedName']+'. '+locationResponse['Country']['LocalizedName']\n",
    "    codigoLocal = locationResponse['Key']#essa informação é usada na api do clima\n",
    "    print('Local: ', nomeLocal)\n",
    "    print('Código do local: ', codigoLocal)\n",
    "    "
   ]
  },
  {
   "cell_type": "markdown",
   "metadata": {},
   "source": [
    "Obtendo o clima"
   ]
  },
  {
   "cell_type": "code",
   "execution_count": null,
   "metadata": {},
   "outputs": [],
   "source": [
    "r2 =requests.get(localtionApiUrl)\n",
    "if (r.status_code !=  200):\n",
    "    print('erro na requisição!')\n",
    "else:\n",
    "    locationResponse = json.loads(r2.text)\n",
    "    nomeLocal = locationResponse['LocalizedName']+', '+locationResponse['AdministrativeArea']['LocalizedName']+'. '+locationResponse['Country']['LocalizedName']\n",
    "    codigoLocal = locationResponse['Key']#essa informação é usada na api do clima\n",
    "    print('Obtendo o clima do Local: ', nomeLocal)\n",
    "    \n",
    "    #a url abaixo é obtida no site da Accuweather em Current conditions\n",
    "    CurrentConditionsApiUrl = 'url'+codigoLocal+'url'+accuweatherApiKey+'url'"
   ]
  },
  {
   "cell_type": "code",
   "execution_count": null,
   "metadata": {},
   "outputs": [],
   "source": [
    "r3 = requests.get(CurrentConditionsApiUrl)\n",
    "if (r3.status_code !=200):\n",
    "    print(\"Não foi possível obter o cód do local!\")\n",
    "else:\n",
    "    CurrentConditionsResponse = json.loads(r3.text)\n",
    "    #print(pprint.pprint(CurrentConditionsResponse))#o resultado será uma lista\n",
    "    textoClima = CurrentConditionsResponse[0]['WeatherText']\n",
    "    temperatura = CurrentConditionsResponse[0]['Temperature']['Metric']['Value']\n",
    "    print('Clima no momento: ', textoClima)\n",
    "    print('Temperatura: '+ str(temperatura)+' graus Celsius')"
   ]
  },
  {
   "cell_type": "markdown",
   "metadata": {},
   "source": [
    "<h4>3. Refatorando o código</h4>"
   ]
  },
  {
   "cell_type": "code",
   "execution_count": null,
   "metadata": {},
   "outputs": [],
   "source": [
    "import requests\n",
    "import json\n",
    "#import pprint"
   ]
  },
  {
   "cell_type": "code",
   "execution_count": null,
   "metadata": {},
   "outputs": [],
   "source": [
    "accuweatherApiKey = 'informarAapiKey'"
   ]
  },
  {
   "cell_type": "code",
   "execution_count": null,
   "metadata": {},
   "outputs": [],
   "source": [
    "#pegar a localização baseado em ip\n",
    "def pegarCoordenadas():\n",
    "    r = requests.get('http://www.geoplugin.net/json.gp')\n",
    "    if r.status_code != 200:\n",
    "        print(\"Erro na Requisição. Não foi possível obter a localização!!!\")\n",
    "        return None#isso evita que o código emita a msg de erro\n",
    "    else:\n",
    "        try:\n",
    "            localizacao = json.loads(r.text)\n",
    "            coordenadas = {}\n",
    "            coordenadas['lat'] = localizacao['geoplugin_latitude']\n",
    "            coordenadas['long'] = localizacao['geoplugin_longitude']\n",
    "            return coordenadas\n",
    "        except:\n",
    "            return None"
   ]
  },
  {
   "cell_type": "code",
   "execution_count": null,
   "metadata": {},
   "outputs": [],
   "source": [
    "#pegando o códigodo local Key\n",
    "def pegarCodigoLocal(lat, long):\n",
    "    LocationApiUrl = 'url'+accuweatherApiKey+'url'+lat+'url'+long+'url'\n",
    "    \n",
    "    r= requests.get(LocationApiUrl)\n",
    "    if r.status_code != 200:\n",
    "        print('Não foi possível obter o código do local!')\n",
    "        print(r.status_code)\n",
    "        return None\n",
    "    else:\n",
    "        try:\n",
    "            locationResponse = json.loads(r.text)\n",
    "            infoLocal = {}\n",
    "            infoLocal['nomeLocal'] = locationResponse['LocalizedName']+', '+locationResponse['AdministrativeArea']['LocalizedName']+'. '+locationResponse['Country']['LocalizedName']\n",
    "            infoLocal['codigoLocal'] = locationResponse['Key']\n",
    "            return infoLocal\n",
    "        except:\n",
    "            return None\n"
   ]
  },
  {
   "cell_type": "code",
   "execution_count": null,
   "metadata": {},
   "outputs": [],
   "source": [
    "#pegando o tempo\n",
    "def pegarTempoAgora(codigoLocal, nomeLocal):\n",
    "    CurrentConditionsApiUrl = 'url'+codigoLocal+'url'+accuweatherApiKey+'url'\n",
    "    r= requests.get(CurrentConditionsApiUrl)\n",
    "    if (r.status_code != 200):\n",
    "        print('Não foi possível obter o clima')\n",
    "        return None\n",
    "    else:\n",
    "        try:\n",
    "            currentConditionsresponse = json.loads(r.text)\n",
    "            infoClima = {}\n",
    "            infoClima['textoClima'] = currentConditionsresponse[0]['WeatherText']\n",
    "            infoClima['temperatura'] = currentConditionsresponse[0]['Temperature']['Metric']['Value'] \n",
    "            infoClima['nomeLocal']=nomeLocal\n",
    "            return infoClima\n",
    "        except:\n",
    "            return None"
   ]
  },
  {
   "cell_type": "markdown",
   "metadata": {},
   "source": [
    "Iniciando o programa"
   ]
  },
  {
   "cell_type": "code",
   "execution_count": null,
   "metadata": {},
   "outputs": [],
   "source": [
    "coordenadas = pegarCoordenadas()\n",
    "try:\n",
    "    local = pegarCodigoLocal(coordenadas['lat'], coordenadas['long'])\n",
    "    climaAtual = pegarTempoAgora(local['codigoLocal'], local['nomeLocal'])\n",
    "    print('Clima atual em: ' + climaAtual['nomeLocal'])\n",
    "    print(climaAtual['textoClima'])\n",
    "    print('Temperatura: ' + str(climaAtual['temperatura'])+'\\xb0'+'C')\n",
    "except:\n",
    "    print('Não foi possível obter informações sobre o clima!')\n",
    "\n",
    "\n"
   ]
  }
 ],
 "metadata": {
  "kernelspec": {
   "display_name": "Python 3",
   "language": "python",
   "name": "python3"
  },
  "language_info": {
   "codemirror_mode": {
    "name": "ipython",
    "version": 3
   },
   "file_extension": ".py",
   "mimetype": "text/x-python",
   "name": "python",
   "nbconvert_exporter": "python",
   "pygments_lexer": "ipython3",
   "version": "3.7.1"
  }
 },
 "nbformat": 4,
 "nbformat_minor": 2
}
